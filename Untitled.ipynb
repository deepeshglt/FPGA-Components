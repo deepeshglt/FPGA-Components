{
 "cells": [
  {
   "cell_type": "code",
   "execution_count": 19,
   "metadata": {},
   "outputs": [
    {
     "name": "stdout",
     "output_type": "stream",
     "text": [
      "module Counter(clk,en,rst,y);\n",
      " input clk;\n",
      " input clk;\n",
      " input rst;\n",
      " output y;\n",
      "always@(posedge clk)\n",
      " begin\n",
      " end\n",
      "endmodule\n"
     ]
    }
   ],
   "source": [
    "m_name = 'Counter'\n",
    "clk_name = 'clk'\n",
    "en_name = 'clk'\n",
    "rst_name = 'rst'\n",
    "out_name = 'y'\n",
    "edge = 'posedge'\n",
    "\n",
    "print('module '+ m_name + '(clk,en,rst,y);')\n",
    "print(' input '+ clk_name +';')\n",
    "print(' input '+ en_name +';')\n",
    "print(' input '+ rst_name +';')\n",
    "print(' output '+ out_name +';')\n",
    "\n",
    "\n",
    "print('always@('+edge+' clk)')\n",
    "print(' begin')\n",
    "print(' end')\n",
    "print('endmodule')"
   ]
  },
  {
   "cell_type": "code",
   "execution_count": null,
   "metadata": {},
   "outputs": [],
   "source": []
  },
  {
   "cell_type": "code",
   "execution_count": null,
   "metadata": {},
   "outputs": [],
   "source": []
  },
  {
   "cell_type": "code",
   "execution_count": null,
   "metadata": {},
   "outputs": [],
   "source": []
  }
 ],
 "metadata": {
  "kernelspec": {
   "display_name": "Python 3",
   "language": "python",
   "name": "python3"
  },
  "language_info": {
   "codemirror_mode": {
    "name": "ipython",
    "version": 3
   },
   "file_extension": ".py",
   "mimetype": "text/x-python",
   "name": "python",
   "nbconvert_exporter": "python",
   "pygments_lexer": "ipython3",
   "version": "3.7.4"
  }
 },
 "nbformat": 4,
 "nbformat_minor": 2
}
