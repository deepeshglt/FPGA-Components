{
 "cells": [
  {
   "cell_type": "code",
   "execution_count": 59,
   "metadata": {},
   "outputs": [
    {
     "name": "stdout",
     "output_type": "stream",
     "text": [
      "module Counter(clk,en,rst,y);\n",
      " input clk;\n",
      " input en;\n",
      " input rst;\n",
      " output y;\n",
      " reg r;\n",
      " always@(posedge clk)\n",
      "  begin\n",
      "   if(en & ~rst) r = r + \n",
      "   if(en)\n",
      "  end\n",
      "endmodule\n"
     ]
    }
   ],
   "source": [
    "m_name = 'Counter'\n",
    "clk_name = 'clk'\n",
    "en_name = 'en'\n",
    "rst_name = 'rst'\n",
    "out_name = 'y'\n",
    "edge = 'posedge'\n",
    "width = 8;\n",
    "\n",
    "str_all = []\n",
    "str_all.append('module '+ m_name + '(clk,en,rst,y);')\n",
    "str_all.append(' input '+ clk_name +';')\n",
    "str_all.append(' input '+ en_name +';')\n",
    "str_all.append(' input '+ rst_name +';')\n",
    "str_all.append(' output '+ out_name +';')\n",
    "str_all.append(' reg r' +';')\n",
    "\n",
    "\n",
    "str_all.append(' always@('+edge+' clk)')\n",
    "str_all.append('  begin')\n",
    "if(en_name):\n",
    "    str_all.append('   if('+en_name+' & ~'+rst_name+')'+ ' r = r + ') \n",
    "    str_all.append('   if('+en_name+')')\n",
    "str_all.append('  end')\n",
    "str_all.append('endmodule')\n",
    "\n",
    "\n",
    "for m in str_all:print(m)\n"
   ]
  },
  {
   "cell_type": "code",
   "execution_count": null,
   "metadata": {},
   "outputs": [],
   "source": []
  }
 ],
 "metadata": {
  "kernelspec": {
   "display_name": "Python 3",
   "language": "python",
   "name": "python3"
  },
  "language_info": {
   "codemirror_mode": {
    "name": "ipython",
    "version": 3
   },
   "file_extension": ".py",
   "mimetype": "text/x-python",
   "name": "python",
   "nbconvert_exporter": "python",
   "pygments_lexer": "ipython3",
   "version": "3.7.4"
  }
 },
 "nbformat": 4,
 "nbformat_minor": 2
}
