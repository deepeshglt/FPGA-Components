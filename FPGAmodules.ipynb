{
 "cells": [
  {
   "cell_type": "code",
   "execution_count": 115,
   "metadata": {},
   "outputs": [
    {
     "name": "stdout",
     "output_type": "stream",
     "text": [
      "module Counter(clk,en,rst,y);\n",
      " input           clk;\n",
      " input           en;\n",
      " input           rst;\n",
      " output          y;\n",
      " reg             [31:0]r = 32'd0;\n",
      " always@(posedge clk)\n",
      "  begin\n",
      "   if(en & ~rst) r = r + 32'd0;\n",
      "   if(rst) r = 32'd0;\n",
      "   if(r==32'd255) r = 32'd0;\n",
      "  end\n",
      " assign y = r;\n",
      "endmodule\n"
     ]
    }
   ],
   "source": [
    "m_name = 'Counter'\n",
    "clk_name = 'clk'\n",
    "en_name = 'en'\n",
    "rst_name = 'rst'\n",
    "out_name = 'y'\n",
    "edge = 'posedge'\n",
    "width = 32;\n",
    "bwidth = str(width-1)\n",
    "max_cnt = 255\n",
    "\n",
    "str_all = []\n",
    "str_all.append('module '+ m_name + '(clk,en,rst,y);')\n",
    "str_all.append(' input           '+ clk_name +';')\n",
    "str_all.append(' input           '+ en_name +';')\n",
    "str_all.append(' input           '+ rst_name +';')\n",
    "str_all.append(' output          '+ out_name +';')\n",
    "str_all.append(' reg             '+'['+bwidth+':0]r = ' +str(width)+\"'d0;\")          \n",
    "\n",
    "\n",
    "str_all.append(' always@('+edge+' clk)')\n",
    "str_all.append('  begin')\n",
    "if(en_name):str_all.append('   if('+en_name+' & ~'+rst_name+')'+ ' r = r + '+str(width)+\"'d0;\") \n",
    "if(rst_name):str_all.append('   if('+rst_name+')'+ ' r = '+str(width)+\"'d0;\")\n",
    "if(max_cnt):str_all.append('   if(r=='+str(width)+\"'d\"+str(max_cnt)+')'+ ' r = '+str(width)+\"'d0;\")\n",
    "str_all.append('  end')\n",
    "str_all.append(' assign ' + out_name + ' = r;')\n",
    "str_all.append('endmodule')\n",
    "\n",
    "\n",
    "for m in str_all:print(m)\n",
    "\n",
    "f = open(m_name+\".v\", \"w\")\n",
    "for m in str_all:f.write(m+'\\n')\n",
    "f.close()"
   ]
  }
 ],
 "metadata": {
  "kernelspec": {
   "display_name": "Python 3",
   "language": "python",
   "name": "python3"
  },
  "language_info": {
   "codemirror_mode": {
    "name": "ipython",
    "version": 3
   },
   "file_extension": ".py",
   "mimetype": "text/x-python",
   "name": "python",
   "nbconvert_exporter": "python",
   "pygments_lexer": "ipython3",
   "version": "3.7.4"
  }
 },
 "nbformat": 4,
 "nbformat_minor": 2
}
